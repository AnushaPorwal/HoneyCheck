{
 "cells": [
  {
   "cell_type": "markdown",
   "id": "08179ec8",
   "metadata": {},
   "source": [
    "# Appendix\n",
    "Code File:"
   ]
  },
  {
   "cell_type": "code",
   "execution_count": 1,
   "id": "149177be",
   "metadata": {},
   "outputs": [],
   "source": [
    "#imports \n",
    "import pandas as pd\n",
    "import numpy as np\n",
    "from keras.preprocessing.image import ImageDataGenerator\n",
    "from keras.preprocessing import image\n",
    "import matplotlib.pyplot as plt\n",
    "import cv2\n",
    "import tensorflow as tf\n",
    "from tensorflow.keras import datasets, layers, models"
   ]
  },
  {
   "cell_type": "markdown",
   "id": "e2cd3790",
   "metadata": {},
   "source": [
    "### Reading the CSV and balancing the data"
   ]
  },
  {
   "cell_type": "code",
   "execution_count": 2,
   "id": "fd4d55d7",
   "metadata": {},
   "outputs": [
    {
     "data": {
      "text/html": [
       "<div>\n",
       "<style scoped>\n",
       "    .dataframe tbody tr th:only-of-type {\n",
       "        vertical-align: middle;\n",
       "    }\n",
       "\n",
       "    .dataframe tbody tr th {\n",
       "        vertical-align: top;\n",
       "    }\n",
       "\n",
       "    .dataframe thead th {\n",
       "        text-align: right;\n",
       "    }\n",
       "</style>\n",
       "<table border=\"1\" class=\"dataframe\">\n",
       "  <thead>\n",
       "    <tr style=\"text-align: right;\">\n",
       "      <th></th>\n",
       "      <th>file</th>\n",
       "      <th>date</th>\n",
       "      <th>time</th>\n",
       "      <th>location</th>\n",
       "      <th>zip code</th>\n",
       "      <th>subspecies</th>\n",
       "      <th>health</th>\n",
       "      <th>pollen_carrying</th>\n",
       "      <th>caste</th>\n",
       "    </tr>\n",
       "  </thead>\n",
       "  <tbody>\n",
       "    <tr>\n",
       "      <th>0</th>\n",
       "      <td>041_066.png</td>\n",
       "      <td>8/28/18</td>\n",
       "      <td>16:07</td>\n",
       "      <td>Alvin, TX, USA</td>\n",
       "      <td>77511</td>\n",
       "      <td>-1</td>\n",
       "      <td>hive being robbed</td>\n",
       "      <td>False</td>\n",
       "      <td>worker</td>\n",
       "    </tr>\n",
       "    <tr>\n",
       "      <th>1</th>\n",
       "      <td>041_072.png</td>\n",
       "      <td>8/28/18</td>\n",
       "      <td>16:07</td>\n",
       "      <td>Alvin, TX, USA</td>\n",
       "      <td>77511</td>\n",
       "      <td>-1</td>\n",
       "      <td>hive being robbed</td>\n",
       "      <td>False</td>\n",
       "      <td>worker</td>\n",
       "    </tr>\n",
       "    <tr>\n",
       "      <th>2</th>\n",
       "      <td>041_073.png</td>\n",
       "      <td>8/28/18</td>\n",
       "      <td>16:07</td>\n",
       "      <td>Alvin, TX, USA</td>\n",
       "      <td>77511</td>\n",
       "      <td>-1</td>\n",
       "      <td>hive being robbed</td>\n",
       "      <td>False</td>\n",
       "      <td>worker</td>\n",
       "    </tr>\n",
       "    <tr>\n",
       "      <th>3</th>\n",
       "      <td>041_067.png</td>\n",
       "      <td>8/28/18</td>\n",
       "      <td>16:07</td>\n",
       "      <td>Alvin, TX, USA</td>\n",
       "      <td>77511</td>\n",
       "      <td>-1</td>\n",
       "      <td>hive being robbed</td>\n",
       "      <td>False</td>\n",
       "      <td>worker</td>\n",
       "    </tr>\n",
       "    <tr>\n",
       "      <th>4</th>\n",
       "      <td>041_059.png</td>\n",
       "      <td>8/28/18</td>\n",
       "      <td>16:07</td>\n",
       "      <td>Alvin, TX, USA</td>\n",
       "      <td>77511</td>\n",
       "      <td>-1</td>\n",
       "      <td>hive being robbed</td>\n",
       "      <td>False</td>\n",
       "      <td>worker</td>\n",
       "    </tr>\n",
       "  </tbody>\n",
       "</table>\n",
       "</div>"
      ],
      "text/plain": [
       "          file     date   time        location  zip code subspecies  \\\n",
       "0  041_066.png  8/28/18  16:07  Alvin, TX, USA     77511         -1   \n",
       "1  041_072.png  8/28/18  16:07  Alvin, TX, USA     77511         -1   \n",
       "2  041_073.png  8/28/18  16:07  Alvin, TX, USA     77511         -1   \n",
       "3  041_067.png  8/28/18  16:07  Alvin, TX, USA     77511         -1   \n",
       "4  041_059.png  8/28/18  16:07  Alvin, TX, USA     77511         -1   \n",
       "\n",
       "              health  pollen_carrying   caste  \n",
       "0  hive being robbed            False  worker  \n",
       "1  hive being robbed            False  worker  \n",
       "2  hive being robbed            False  worker  \n",
       "3  hive being robbed            False  worker  \n",
       "4  hive being robbed            False  worker  "
      ]
     },
     "execution_count": 2,
     "metadata": {},
     "output_type": "execute_result"
    }
   ],
   "source": [
    "data = pd.read_csv(\"bee_data.csv\")\n",
    "data.head()"
   ]
  },
  {
   "cell_type": "code",
   "execution_count": 3,
   "id": "ecec7ff1",
   "metadata": {},
   "outputs": [
    {
     "data": {
      "text/plain": [
       "Italian honey bee        3008\n",
       "Russian honey bee         527\n",
       "Carniolan honey bee       501\n",
       "1 Mixed local stock 2     472\n",
       "-1                        428\n",
       "VSH Italian honey bee     199\n",
       "Western honey bee          37\n",
       "Name: subspecies, dtype: int64"
      ]
     },
     "execution_count": 3,
     "metadata": {},
     "output_type": "execute_result"
    }
   ],
   "source": [
    "data.subspecies.value_counts()"
   ]
  },
  {
   "cell_type": "code",
   "execution_count": 4,
   "id": "fcc99f48",
   "metadata": {},
   "outputs": [
    {
     "data": {
      "text/html": [
       "<div>\n",
       "<style scoped>\n",
       "    .dataframe tbody tr th:only-of-type {\n",
       "        vertical-align: middle;\n",
       "    }\n",
       "\n",
       "    .dataframe tbody tr th {\n",
       "        vertical-align: top;\n",
       "    }\n",
       "\n",
       "    .dataframe thead th {\n",
       "        text-align: right;\n",
       "    }\n",
       "</style>\n",
       "<table border=\"1\" class=\"dataframe\">\n",
       "  <thead>\n",
       "    <tr style=\"text-align: right;\">\n",
       "      <th></th>\n",
       "      <th>file</th>\n",
       "      <th>health</th>\n",
       "    </tr>\n",
       "  </thead>\n",
       "  <tbody>\n",
       "    <tr>\n",
       "      <th>0</th>\n",
       "      <td>041_066.png</td>\n",
       "      <td>hive being robbed</td>\n",
       "    </tr>\n",
       "    <tr>\n",
       "      <th>1</th>\n",
       "      <td>041_072.png</td>\n",
       "      <td>hive being robbed</td>\n",
       "    </tr>\n",
       "    <tr>\n",
       "      <th>2</th>\n",
       "      <td>041_073.png</td>\n",
       "      <td>hive being robbed</td>\n",
       "    </tr>\n",
       "    <tr>\n",
       "      <th>3</th>\n",
       "      <td>041_067.png</td>\n",
       "      <td>hive being robbed</td>\n",
       "    </tr>\n",
       "    <tr>\n",
       "      <th>4</th>\n",
       "      <td>041_059.png</td>\n",
       "      <td>hive being robbed</td>\n",
       "    </tr>\n",
       "  </tbody>\n",
       "</table>\n",
       "</div>"
      ],
      "text/plain": [
       "          file             health\n",
       "0  041_066.png  hive being robbed\n",
       "1  041_072.png  hive being robbed\n",
       "2  041_073.png  hive being robbed\n",
       "3  041_067.png  hive being robbed\n",
       "4  041_059.png  hive being robbed"
      ]
     },
     "execution_count": 4,
     "metadata": {},
     "output_type": "execute_result"
    }
   ],
   "source": [
    "data = data.drop(['date', 'time', 'location', 'zip code', 'subspecies', 'pollen_carrying', 'caste'], axis=1)\n",
    "data.head()"
   ]
  },
  {
   "cell_type": "code",
   "execution_count": 5,
   "id": "e0627866",
   "metadata": {},
   "outputs": [
    {
     "data": {
      "text/plain": [
       "healthy                       3384\n",
       "few varrao, hive beetles       579\n",
       "Varroa, Small Hive Beetles     472\n",
       "ant problems                   457\n",
       "hive being robbed              251\n",
       "missing queen                   29\n",
       "Name: health, dtype: int64"
      ]
     },
     "execution_count": 5,
     "metadata": {},
     "output_type": "execute_result"
    }
   ],
   "source": [
    "data.health.value_counts()"
   ]
  },
  {
   "cell_type": "code",
   "execution_count": 6,
   "id": "584f04f9",
   "metadata": {},
   "outputs": [
    {
     "data": {
      "text/html": [
       "<div>\n",
       "<style scoped>\n",
       "    .dataframe tbody tr th:only-of-type {\n",
       "        vertical-align: middle;\n",
       "    }\n",
       "\n",
       "    .dataframe tbody tr th {\n",
       "        vertical-align: top;\n",
       "    }\n",
       "\n",
       "    .dataframe thead th {\n",
       "        text-align: right;\n",
       "    }\n",
       "</style>\n",
       "<table border=\"1\" class=\"dataframe\">\n",
       "  <thead>\n",
       "    <tr style=\"text-align: right;\">\n",
       "      <th></th>\n",
       "      <th>file</th>\n",
       "      <th>health</th>\n",
       "      <th>health_categorical</th>\n",
       "    </tr>\n",
       "  </thead>\n",
       "  <tbody>\n",
       "    <tr>\n",
       "      <th>0</th>\n",
       "      <td>041_066.png</td>\n",
       "      <td>hive being robbed</td>\n",
       "      <td>0</td>\n",
       "    </tr>\n",
       "    <tr>\n",
       "      <th>1</th>\n",
       "      <td>041_072.png</td>\n",
       "      <td>hive being robbed</td>\n",
       "      <td>0</td>\n",
       "    </tr>\n",
       "    <tr>\n",
       "      <th>2</th>\n",
       "      <td>041_073.png</td>\n",
       "      <td>hive being robbed</td>\n",
       "      <td>0</td>\n",
       "    </tr>\n",
       "    <tr>\n",
       "      <th>3</th>\n",
       "      <td>041_067.png</td>\n",
       "      <td>hive being robbed</td>\n",
       "      <td>0</td>\n",
       "    </tr>\n",
       "    <tr>\n",
       "      <th>4</th>\n",
       "      <td>041_059.png</td>\n",
       "      <td>hive being robbed</td>\n",
       "      <td>0</td>\n",
       "    </tr>\n",
       "  </tbody>\n",
       "</table>\n",
       "</div>"
      ],
      "text/plain": [
       "          file             health  health_categorical\n",
       "0  041_066.png  hive being robbed                   0\n",
       "1  041_072.png  hive being robbed                   0\n",
       "2  041_073.png  hive being robbed                   0\n",
       "3  041_067.png  hive being robbed                   0\n",
       "4  041_059.png  hive being robbed                   0"
      ]
     },
     "execution_count": 6,
     "metadata": {},
     "output_type": "execute_result"
    }
   ],
   "source": [
    "#0 is unhealthy\n",
    "#1 is healthy\n",
    "data['health_categorical'] = np.where(data['health']!= 'healthy', 0, 1)\n",
    "data.head()"
   ]
  },
  {
   "cell_type": "code",
   "execution_count": 7,
   "id": "d83704d0",
   "metadata": {},
   "outputs": [
    {
     "name": "stdout",
     "output_type": "stream",
     "text": [
      "1    3384\n",
      "0    1788\n",
      "Name: health_categorical, dtype: int64\n",
      "0 values : 1788\n"
     ]
    }
   ],
   "source": [
    "a = data.health_categorical.value_counts()\n",
    "print(a)\n",
    "print(\"0 values : \" + str(a[0]))"
   ]
  },
  {
   "cell_type": "code",
   "execution_count": 8,
   "id": "986630e4",
   "metadata": {},
   "outputs": [
    {
     "data": {
      "text/plain": [
       "1    3384\n",
       "Name: health_categorical, dtype: int64"
      ]
     },
     "execution_count": 8,
     "metadata": {},
     "output_type": "execute_result"
    }
   ],
   "source": [
    "# Need to make the dataset balanced for 0 and 1 entries\n",
    "data_1 = data[data['health_categorical'] == 1]\n",
    "data_1.health_categorical.value_counts()"
   ]
  },
  {
   "cell_type": "code",
   "execution_count": 9,
   "id": "f35eff87",
   "metadata": {},
   "outputs": [
    {
     "data": {
      "text/plain": [
       "1788"
      ]
     },
     "execution_count": 9,
     "metadata": {},
     "output_type": "execute_result"
    }
   ],
   "source": [
    "data_1_sampled = data_1.sample(n = a[0])\n",
    "len(data_1_sampled)"
   ]
  },
  {
   "cell_type": "code",
   "execution_count": 10,
   "id": "ac29f0d0",
   "metadata": {},
   "outputs": [
    {
     "data": {
      "text/html": [
       "<div>\n",
       "<style scoped>\n",
       "    .dataframe tbody tr th:only-of-type {\n",
       "        vertical-align: middle;\n",
       "    }\n",
       "\n",
       "    .dataframe tbody tr th {\n",
       "        vertical-align: top;\n",
       "    }\n",
       "\n",
       "    .dataframe thead th {\n",
       "        text-align: right;\n",
       "    }\n",
       "</style>\n",
       "<table border=\"1\" class=\"dataframe\">\n",
       "  <thead>\n",
       "    <tr style=\"text-align: right;\">\n",
       "      <th></th>\n",
       "      <th>file</th>\n",
       "      <th>health</th>\n",
       "      <th>health_categorical</th>\n",
       "    </tr>\n",
       "  </thead>\n",
       "  <tbody>\n",
       "    <tr>\n",
       "      <th>1269</th>\n",
       "      <td>005_301.png</td>\n",
       "      <td>healthy</td>\n",
       "      <td>1</td>\n",
       "    </tr>\n",
       "    <tr>\n",
       "      <th>4029</th>\n",
       "      <td>032_549.png</td>\n",
       "      <td>healthy</td>\n",
       "      <td>1</td>\n",
       "    </tr>\n",
       "    <tr>\n",
       "      <th>2918</th>\n",
       "      <td>010_595.png</td>\n",
       "      <td>healthy</td>\n",
       "      <td>1</td>\n",
       "    </tr>\n",
       "    <tr>\n",
       "      <th>3100</th>\n",
       "      <td>018_050.png</td>\n",
       "      <td>healthy</td>\n",
       "      <td>1</td>\n",
       "    </tr>\n",
       "    <tr>\n",
       "      <th>3608</th>\n",
       "      <td>015_1116.png</td>\n",
       "      <td>healthy</td>\n",
       "      <td>1</td>\n",
       "    </tr>\n",
       "  </tbody>\n",
       "</table>\n",
       "</div>"
      ],
      "text/plain": [
       "              file   health  health_categorical\n",
       "1269   005_301.png  healthy                   1\n",
       "4029   032_549.png  healthy                   1\n",
       "2918   010_595.png  healthy                   1\n",
       "3100   018_050.png  healthy                   1\n",
       "3608  015_1116.png  healthy                   1"
      ]
     },
     "execution_count": 10,
     "metadata": {},
     "output_type": "execute_result"
    }
   ],
   "source": [
    "data_final = pd.concat([data_1_sampled, data[data['health_categorical'] == 0]])\n",
    "data_final.head()"
   ]
  },
  {
   "cell_type": "code",
   "execution_count": 11,
   "id": "bb0df39d",
   "metadata": {},
   "outputs": [
    {
     "name": "stdout",
     "output_type": "stream",
     "text": [
      "1    1788\n",
      "0    1788\n",
      "Name: health_categorical, dtype: int64\n",
      "\n",
      "Dataset Size:3576\n"
     ]
    }
   ],
   "source": [
    "print(data_final.health_categorical.value_counts())\n",
    "print(\"\\nDataset Size:\" + str(len(data_final)))"
   ]
  },
  {
   "cell_type": "code",
   "execution_count": 12,
   "id": "687f59ee",
   "metadata": {},
   "outputs": [
    {
     "data": {
      "text/html": [
       "<div>\n",
       "<style scoped>\n",
       "    .dataframe tbody tr th:only-of-type {\n",
       "        vertical-align: middle;\n",
       "    }\n",
       "\n",
       "    .dataframe tbody tr th {\n",
       "        vertical-align: top;\n",
       "    }\n",
       "\n",
       "    .dataframe thead th {\n",
       "        text-align: right;\n",
       "    }\n",
       "</style>\n",
       "<table border=\"1\" class=\"dataframe\">\n",
       "  <thead>\n",
       "    <tr style=\"text-align: right;\">\n",
       "      <th></th>\n",
       "      <th>file</th>\n",
       "      <th>health_categorical</th>\n",
       "    </tr>\n",
       "  </thead>\n",
       "  <tbody>\n",
       "    <tr>\n",
       "      <th>1269</th>\n",
       "      <td>005_301.png</td>\n",
       "      <td>1</td>\n",
       "    </tr>\n",
       "    <tr>\n",
       "      <th>4029</th>\n",
       "      <td>032_549.png</td>\n",
       "      <td>1</td>\n",
       "    </tr>\n",
       "    <tr>\n",
       "      <th>2918</th>\n",
       "      <td>010_595.png</td>\n",
       "      <td>1</td>\n",
       "    </tr>\n",
       "    <tr>\n",
       "      <th>3100</th>\n",
       "      <td>018_050.png</td>\n",
       "      <td>1</td>\n",
       "    </tr>\n",
       "    <tr>\n",
       "      <th>3608</th>\n",
       "      <td>015_1116.png</td>\n",
       "      <td>1</td>\n",
       "    </tr>\n",
       "  </tbody>\n",
       "</table>\n",
       "</div>"
      ],
      "text/plain": [
       "              file  health_categorical\n",
       "1269   005_301.png                   1\n",
       "4029   032_549.png                   1\n",
       "2918   010_595.png                   1\n",
       "3100   018_050.png                   1\n",
       "3608  015_1116.png                   1"
      ]
     },
     "execution_count": 12,
     "metadata": {},
     "output_type": "execute_result"
    }
   ],
   "source": [
    "data_final = data_final.drop(['health'], axis=1)\n",
    "data_final.head()"
   ]
  },
  {
   "cell_type": "code",
   "execution_count": 13,
   "id": "ca268cdf",
   "metadata": {},
   "outputs": [
    {
     "data": {
      "text/html": [
       "<div>\n",
       "<style scoped>\n",
       "    .dataframe tbody tr th:only-of-type {\n",
       "        vertical-align: middle;\n",
       "    }\n",
       "\n",
       "    .dataframe tbody tr th {\n",
       "        vertical-align: top;\n",
       "    }\n",
       "\n",
       "    .dataframe thead th {\n",
       "        text-align: right;\n",
       "    }\n",
       "</style>\n",
       "<table border=\"1\" class=\"dataframe\">\n",
       "  <thead>\n",
       "    <tr style=\"text-align: right;\">\n",
       "      <th></th>\n",
       "      <th>file</th>\n",
       "      <th>health_categorical</th>\n",
       "    </tr>\n",
       "  </thead>\n",
       "  <tbody>\n",
       "    <tr>\n",
       "      <th>0</th>\n",
       "      <td>010_755.png</td>\n",
       "      <td>1</td>\n",
       "    </tr>\n",
       "    <tr>\n",
       "      <th>1</th>\n",
       "      <td>008_290.png</td>\n",
       "      <td>1</td>\n",
       "    </tr>\n",
       "    <tr>\n",
       "      <th>2</th>\n",
       "      <td>039_025.png</td>\n",
       "      <td>0</td>\n",
       "    </tr>\n",
       "    <tr>\n",
       "      <th>3</th>\n",
       "      <td>038_116.png</td>\n",
       "      <td>0</td>\n",
       "    </tr>\n",
       "    <tr>\n",
       "      <th>4</th>\n",
       "      <td>003_282.png</td>\n",
       "      <td>1</td>\n",
       "    </tr>\n",
       "  </tbody>\n",
       "</table>\n",
       "</div>"
      ],
      "text/plain": [
       "          file  health_categorical\n",
       "0  010_755.png                   1\n",
       "1  008_290.png                   1\n",
       "2  039_025.png                   0\n",
       "3  038_116.png                   0\n",
       "4  003_282.png                   1"
      ]
     },
     "execution_count": 13,
     "metadata": {},
     "output_type": "execute_result"
    }
   ],
   "source": [
    "#Randomizing the dataset for the train/test split\n",
    "data_final = data_final.sample(frac = 1)\n",
    "data_final = data_final.reset_index(drop = True)\n",
    "data_final.head()"
   ]
  },
  {
   "cell_type": "markdown",
   "id": "95eb451d",
   "metadata": {},
   "source": [
    "### Reading Image Files:"
   ]
  },
  {
   "cell_type": "code",
   "execution_count": 14,
   "id": "8f5fcd02",
   "metadata": {},
   "outputs": [],
   "source": [
    "directory = \"C:\\\\Users\\\\myname\\\\OneDrive\\\\Documents\\\\Machine Learning\\\\Project\\\\bee_imgs\\\\bee_imgs\\\\\"\n",
    "Bee_images = [image.load_img(directory+img_name,target_size=(64,64)) for img_name in data_final[\"file\"]]"
   ]
  },
  {
   "cell_type": "code",
   "execution_count": 15,
   "id": "00f42304",
   "metadata": {},
   "outputs": [
    {
     "data": {
      "image/png": "[encoded data removed]",
      "text/plain": [
       "<Figure size 500x300 with 4 Axes>"
      ]
     },
     "metadata": {},
     "output_type": "display_data"
    }
   ],
   "source": [
    "fig = plt.figure(figsize=(5, 3))\n",
    "Img_idx = [55, 300, 1900, 2000]\n",
    "for i in range(0, 4):\n",
    "    Img = Bee_images[Img_idx[i]]\n",
    "    fig.add_subplot(1, 4, i+1)\n",
    "    plt.imshow(Img)\n",
    "    plt.axis('off')\n",
    "    plt.title(\"label: \" + str(data_final.iloc[Img_idx[i]][\"health_categorical\"]))"
   ]
  },
  {
   "cell_type": "code",
   "execution_count": 16,
   "id": "07c5b3ba",
   "metadata": {},
   "outputs": [
    {
     "data": {
      "text/plain": [
       "(3576, 64, 64, 3)"
      ]
     },
     "execution_count": 16,
     "metadata": {},
     "output_type": "execute_result"
    }
   ],
   "source": [
    "#Converting images to pixel matrices\n",
    "pixel_matrix = [np.array(image.img_to_array(i)) for i in Bee_images]\n",
    "np.shape(pixel_matrix)"
   ]
  },
  {
   "cell_type": "code",
   "execution_count": 17,
   "id": "371a2002",
   "metadata": {},
   "outputs": [
    {
     "data": {
      "text/plain": [
       "(3576, 64, 64)"
      ]
     },
     "execution_count": 17,
     "metadata": {},
     "output_type": "execute_result"
    }
   ],
   "source": [
    "#Converting images into grayscale\n",
    "gray_matrix = []\n",
    "\n",
    "for i in range(0, np.shape(pixel_matrix)[0]):\n",
    "    gry_img = cv2.cvtColor(pixel_matrix[i], cv2.COLOR_BGR2GRAY)\n",
    "    gray_matrix.append(gry_img)\n",
    "\n",
    "\n",
    "np.shape(gray_matrix)"
   ]
  },
  {
   "cell_type": "code",
   "execution_count": 18,
   "id": "e64117c2",
   "metadata": {},
   "outputs": [],
   "source": [
    "#normalizing pixel intensity values - all values will be between 0 and 1 now\n",
    "gray_matrix = [i/255.0 for i in gray_matrix]"
   ]
  },
  {
   "cell_type": "code",
   "execution_count": 19,
   "id": "e0838f71",
   "metadata": {},
   "outputs": [],
   "source": [
    "#reshaping the 64x64 matrix representing each image, to a 1x4096 \n",
    "def horizontalStacking(gray_matrix):\n",
    "    gray_reshaped = []\n",
    "\n",
    "    for i in range(0, np.shape(gray_matrix)[0]):\n",
    "        gray_reshaped.append(np.reshape(gray_matrix[i], (-1,)))\n",
    "\n",
    "    #np.shape(gray_reshaped)\n",
    "    return gray_reshaped"
   ]
  },
  {
   "cell_type": "markdown",
   "id": "59cc1dac",
   "metadata": {},
   "source": [
    "### Train/Test Split for kNN"
   ]
  },
  {
   "cell_type": "code",
   "execution_count": 20,
   "id": "aab3157b",
   "metadata": {},
   "outputs": [],
   "source": [
    "gray_reshaped = horizontalStacking(gray_matrix)"
   ]
  },
  {
   "cell_type": "code",
   "execution_count": 21,
   "id": "8aea34bf",
   "metadata": {},
   "outputs": [],
   "source": [
    "n1 = int(np.floor(0.7 * np.shape(gray_reshaped)[0]))\n",
    "n2 = n1 + int(np.floor(0.2 * np.shape(gray_reshaped)[0]))"
   ]
  },
  {
   "cell_type": "code",
   "execution_count": 22,
   "id": "090c844e",
   "metadata": {},
   "outputs": [],
   "source": [
    "final_data = np.array(gray_reshaped)\n",
    "train_x_knn, val_x_knn, test_x_knn = final_data[:n1,:], final_data[n1:n2,:], final_data[n2:,:]"
   ]
  },
  {
   "cell_type": "code",
   "execution_count": 23,
   "id": "23b36766",
   "metadata": {},
   "outputs": [
    {
     "data": {
      "text/plain": [
       "((2503, 4096), (715, 4096), (358, 4096))"
      ]
     },
     "execution_count": 23,
     "metadata": {},
     "output_type": "execute_result"
    }
   ],
   "source": [
    "train_x_knn.shape, val_x_knn.shape, test_x_knn.shape"
   ]
  },
  {
   "cell_type": "code",
   "execution_count": 24,
   "id": "b7280eeb",
   "metadata": {},
   "outputs": [],
   "source": [
    "train_y_knn = data_final.loc[:n1-1,:][\"health_categorical\"]\n",
    "val_y_knn = data_final.loc[n1:n2-1,:][\"health_categorical\"]\n",
    "test_y_knn = data_final.loc[n2:,:][\"health_categorical\"]"
   ]
  },
  {
   "cell_type": "code",
   "execution_count": 25,
   "id": "fd8e51ff",
   "metadata": {},
   "outputs": [
    {
     "data": {
      "text/plain": [
       "((2503,), (715,), (358,))"
      ]
     },
     "execution_count": 25,
     "metadata": {},
     "output_type": "execute_result"
    }
   ],
   "source": [
    "train_y_knn.shape, val_y_knn.shape, test_y_knn.shape"
   ]
  },
  {
   "cell_type": "markdown",
   "id": "e023baab",
   "metadata": {},
   "source": [
    "### Train/Test Split for CNN "
   ]
  },
  {
   "cell_type": "code",
   "execution_count": 26,
   "id": "012519c3",
   "metadata": {},
   "outputs": [
    {
     "data": {
      "text/plain": [
       "(3576, 64, 64)"
      ]
     },
     "execution_count": 26,
     "metadata": {},
     "output_type": "execute_result"
    }
   ],
   "source": [
    "gray_matrix_arr = np.array(gray_matrix)\n",
    "gray_matrix_arr.shape"
   ]
  },
  {
   "cell_type": "code",
   "execution_count": 27,
   "id": "3f43ef65",
   "metadata": {},
   "outputs": [
    {
     "data": {
      "text/plain": [
       "((2503, 64, 64), (715, 64, 64), (358, 64, 64))"
      ]
     },
     "execution_count": 27,
     "metadata": {},
     "output_type": "execute_result"
    }
   ],
   "source": [
    "train_x_cnn, val_x_cnn, test_x_cnn = gray_matrix_arr[:n1,:], gray_matrix_arr[n1:n2,:], gray_matrix_arr[n2:,:]\n",
    "train_x_cnn.shape,val_x_cnn.shape, test_x_cnn.shape"
   ]
  },
  {
   "cell_type": "code",
   "execution_count": 28,
   "id": "0eb68263",
   "metadata": {},
   "outputs": [
    {
     "data": {
      "text/plain": [
       "((2503,), (715,), (358,))"
      ]
     },
     "execution_count": 28,
     "metadata": {},
     "output_type": "execute_result"
    }
   ],
   "source": [
    "train_y_cnn = data_final.loc[:n1-1,:][\"health_categorical\"]\n",
    "val_y_cnn = data_final.loc[n1:n2-1,:][\"health_categorical\"]\n",
    "test_y_cnn = data_final.loc[n2:,:][\"health_categorical\"]\n",
    "\n",
    "train_y_cnn.shape, val_y_cnn.shape, test_y_cnn.shape"
   ]
  },
  {
   "cell_type": "code",
   "execution_count": 29,
   "id": "71ce2256",
   "metadata": {},
   "outputs": [],
   "source": [
    "n_trainsamples = n1\n",
    "n_valsamples = n2-n1\n",
    "n_testsamples = gray_matrix_arr.shape[0] - n_valsamples - n_trainsamples"
   ]
  },
  {
   "cell_type": "code",
   "execution_count": 30,
   "id": "8abb8ad7",
   "metadata": {},
   "outputs": [
    {
     "data": {
      "text/plain": [
       "((2503, 64, 64, 1), (715, 64, 64, 1), (358, 64, 64, 1))"
      ]
     },
     "execution_count": 30,
     "metadata": {},
     "output_type": "execute_result"
    }
   ],
   "source": [
    "train_x_cnn = train_x_cnn.reshape((n_trainsamples, 64, 64, 1))\n",
    "val_x_cnn = val_x_cnn.reshape((n_valsamples, 64, 64, 1))\n",
    "test_x_cnn = test_x_cnn.reshape((n_testsamples, 64, 64, 1))\n",
    "train_x_cnn.shape, val_x_cnn.shape, test_x_cnn.shape"
   ]
  },
  {
   "cell_type": "markdown",
   "id": "a2080b2d",
   "metadata": {},
   "source": [
    "### CNN Model"
   ]
  },
  {
   "cell_type": "code",
   "execution_count": 31,
   "id": "79d3dc32",
   "metadata": {},
   "outputs": [],
   "source": [
    "model = models.Sequential()\n",
    "model.add(layers.Conv2D(32, (3, 3), activation='relu', input_shape=(64, 64, 1)))\n",
    "model.add(layers.MaxPooling2D((2, 2)))\n",
    "model.add(layers.Conv2D(64, (3, 3), activation='relu'))\n",
    "model.add(layers.MaxPooling2D((2, 2)))\n",
    "model.add(layers.Conv2D(64, (3, 3), activation='relu'))\n",
    "model.add(layers.Flatten())\n",
    "model.add(layers.Dense(64, activation='relu'))\n",
    "model.add(layers.Dense(1))"
   ]
  },
  {
   "cell_type": "code",
   "execution_count": 32,
   "id": "8672233a",
   "metadata": {},
   "outputs": [
    {
     "name": "stdout",
     "output_type": "stream",
     "text": [
      "Model: \"sequential\"\n",
      "_________________________________________________________________\n",
      " Layer (type)                Output Shape              Param #   \n",
      "=================================================================\n",
      " conv2d (Conv2D)             (None, 62, 62, 32)        320       \n",
      "                                                                 \n",
      " max_pooling2d (MaxPooling2  (None, 31, 31, 32)        0         \n",
      " D)                                                              \n",
      "                                                                 \n",
      " conv2d_1 (Conv2D)           (None, 29, 29, 64)        18496     \n",
      "                                                                 \n",
      " max_pooling2d_1 (MaxPoolin  (None, 14, 14, 64)        0         \n",
      " g2D)                                                            \n",
      "                                                                 \n",
      " conv2d_2 (Conv2D)           (None, 12, 12, 64)        36928     \n",
      "                                                                 \n",
      " flatten (Flatten)           (None, 9216)              0         \n",
      "                                                                 \n",
      " dense (Dense)               (None, 64)                589888    \n",
      "                                                                 \n",
      " dense_1 (Dense)             (None, 1)                 65        \n",
      "                                                                 \n",
      "=================================================================\n",
      "Total params: 645697 (2.46 MB)\n",
      "Trainable params: 645697 (2.46 MB)\n",
      "Non-trainable params: 0 (0.00 Byte)\n",
      "_________________________________________________________________\n"
     ]
    }
   ],
   "source": [
    "model.summary()"
   ]
  },
  {
   "cell_type": "code",
   "execution_count": 33,
   "id": "71a78ab3",
   "metadata": {},
   "outputs": [],
   "source": [
    "model.compile(optimizer='adam',\n",
    "              loss=tf.keras.losses.BinaryCrossentropy(from_logits=True),\n",
    "              metrics=['accuracy'])"
   ]
  },
  {
   "cell_type": "code",
   "execution_count": 34,
   "id": "3b9eeb5d",
   "metadata": {},
   "outputs": [
    {
     "name": "stdout",
     "output_type": "stream",
     "text": [
      "Epoch 1/10\n",
      "79/79 [==============================] - 16s 161ms/step - loss: 0.5934 - accuracy: 0.6252 - val_loss: 0.4675 - val_accuracy: 0.7427\n",
      "Epoch 2/10\n",
      "79/79 [==============================] - 12s 154ms/step - loss: 0.4397 - accuracy: 0.7679 - val_loss: 0.3828 - val_accuracy: 0.8042\n",
      "Epoch 3/10\n",
      "79/79 [==============================] - 12s 153ms/step - loss: 0.3995 - accuracy: 0.7926 - val_loss: 0.3304 - val_accuracy: 0.8531\n",
      "Epoch 4/10\n",
      "79/79 [==============================] - 12s 153ms/step - loss: 0.3549 - accuracy: 0.8270 - val_loss: 0.3335 - val_accuracy: 0.8098\n",
      "Epoch 5/10\n",
      "79/79 [==============================] - 12s 151ms/step - loss: 0.2772 - accuracy: 0.8722 - val_loss: 0.2770 - val_accuracy: 0.8587\n",
      "Epoch 6/10\n",
      "79/79 [==============================] - 12s 152ms/step - loss: 0.2533 - accuracy: 0.8853 - val_loss: 0.2974 - val_accuracy: 0.8853\n",
      "Epoch 7/10\n",
      "79/79 [==============================] - 12s 152ms/step - loss: 0.2166 - accuracy: 0.9045 - val_loss: 0.2519 - val_accuracy: 0.8867\n",
      "Epoch 8/10\n",
      "79/79 [==============================] - 12s 151ms/step - loss: 0.1804 - accuracy: 0.9261 - val_loss: 0.2538 - val_accuracy: 0.9105\n",
      "Epoch 9/10\n",
      "79/79 [==============================] - 12s 152ms/step - loss: 0.1457 - accuracy: 0.9393 - val_loss: 0.2472 - val_accuracy: 0.9147\n",
      "Epoch 10/10\n",
      "79/79 [==============================] - 12s 150ms/step - loss: 0.1255 - accuracy: 0.9473 - val_loss: 0.2639 - val_accuracy: 0.8993\n"
     ]
    }
   ],
   "source": [
    "history = model.fit(train_x_cnn, train_y_cnn, epochs=10, \n",
    "                    validation_data=(val_x_cnn, val_y_cnn))"
   ]
  },
  {
   "cell_type": "code",
   "execution_count": 53,
   "id": "8d21a8d2",
   "metadata": {},
   "outputs": [
    {
     "data": {
      "text/plain": [
       "<matplotlib.legend.Legend at 0x20cbe139a50>"
      ]
     },
     "execution_count": 53,
     "metadata": {},
     "output_type": "execute_result"
    },
    {
     "data": {
      "image/png": "[encoded data removed]",
      "text/plain": [
       "<Figure size 640x480 with 1 Axes>"
      ]
     },
     "metadata": {},
     "output_type": "display_data"
    }
   ],
   "source": [
    "plt.plot(history.history['accuracy'], label='training accuracy')\n",
    "plt.plot(history.history['val_accuracy'], label = 'validation accuracy')\n",
    "plt.xlabel('Epoch')\n",
    "plt.ylabel('Accuracy')\n",
    "plt.title(\"Accuacies calculated at each epoch of training\")\n",
    "plt.ylim([0.5, 1])\n",
    "plt.legend(loc='lower right')"
   ]
  },
  {
   "cell_type": "code",
   "execution_count": 36,
   "id": "27d022cd",
   "metadata": {},
   "outputs": [
    {
     "name": "stdout",
     "output_type": "stream",
     "text": [
      "12/12 - 1s - loss: 0.3058 - accuracy: 0.8911 - 559ms/epoch - 47ms/step\n"
     ]
    }
   ],
   "source": [
    "test_loss, test_acc = model.evaluate(test_x_cnn,  test_y_cnn, verbose=2)"
   ]
  },
  {
   "cell_type": "markdown",
   "id": "14fb8c2a",
   "metadata": {},
   "source": [
    "### kNN Model"
   ]
  },
  {
   "cell_type": "code",
   "execution_count": 37,
   "id": "c942c215",
   "metadata": {},
   "outputs": [],
   "source": [
    "from sklearn.neighbors import KNeighborsClassifier\n",
    "from sklearn.metrics import accuracy_score\n",
    "import matplotlib.pyplot as plt"
   ]
  },
  {
   "cell_type": "code",
   "execution_count": 38,
   "id": "eec6e2b7",
   "metadata": {},
   "outputs": [],
   "source": [
    "knn = KNeighborsClassifier(n_neighbors=10)"
   ]
  },
  {
   "cell_type": "code",
   "execution_count": 39,
   "id": "386dbd50",
   "metadata": {},
   "outputs": [
    {
     "data": {
      "text/html": [
       "<style>#sk-container-id-1 {color: black;}#sk-container-id-1 pre{padding: 0;}#sk-container-id-1 div.sk-toggleable {background-color: white;}#sk-container-id-1 label.sk-toggleable__label {cursor: pointer;display: block;width: 100%;margin-bottom: 0;padding: 0.3em;box-sizing: border-box;text-align: center;}#sk-container-id-1 label.sk-toggleable__label-arrow:before {content: \"▸\";float: left;margin-right: 0.25em;color: #696969;}#sk-container-id-1 label.sk-toggleable__label-arrow:hover:before {color: black;}#sk-container-id-1 div.sk-estimator:hover label.sk-toggleable__label-arrow:before {color: black;}#sk-container-id-1 div.sk-toggleable__content {max-height: 0;max-width: 0;overflow: hidden;text-align: left;background-color: #f0f8ff;}#sk-container-id-1 div.sk-toggleable__content pre {margin: 0.2em;color: black;border-radius: 0.25em;background-color: #f0f8ff;}#sk-container-id-1 input.sk-toggleable__control:checked~div.sk-toggleable__content {max-height: 200px;max-width: 100%;overflow: auto;}#sk-container-id-1 input.sk-toggleable__control:checked~label.sk-toggleable__label-arrow:before {content: \"▾\";}#sk-container-id-1 div.sk-estimator input.sk-toggleable__control:checked~label.sk-toggleable__label {background-color: #d4ebff;}#sk-container-id-1 div.sk-label input.sk-toggleable__control:checked~label.sk-toggleable__label {background-color: #d4ebff;}#sk-container-id-1 input.sk-hidden--visually {border: 0;clip: rect(1px 1px 1px 1px);clip: rect(1px, 1px, 1px, 1px);height: 1px;margin: -1px;overflow: hidden;padding: 0;position: absolute;width: 1px;}#sk-container-id-1 div.sk-estimator {font-family: monospace;background-color: #f0f8ff;border: 1px dotted black;border-radius: 0.25em;box-sizing: border-box;margin-bottom: 0.5em;}#sk-container-id-1 div.sk-estimator:hover {background-color: #d4ebff;}#sk-container-id-1 div.sk-parallel-item::after {content: \"\";width: 100%;border-bottom: 1px solid gray;flex-grow: 1;}#sk-container-id-1 div.sk-label:hover label.sk-toggleable__label {background-color: #d4ebff;}#sk-container-id-1 div.sk-serial::before {content: \"\";position: absolute;border-left: 1px solid gray;box-sizing: border-box;top: 0;bottom: 0;left: 50%;z-index: 0;}#sk-container-id-1 div.sk-serial {display: flex;flex-direction: column;align-items: center;background-color: white;padding-right: 0.2em;padding-left: 0.2em;position: relative;}#sk-container-id-1 div.sk-item {position: relative;z-index: 1;}#sk-container-id-1 div.sk-parallel {display: flex;align-items: stretch;justify-content: center;background-color: white;position: relative;}#sk-container-id-1 div.sk-item::before, #sk-container-id-1 div.sk-parallel-item::before {content: \"\";position: absolute;border-left: 1px solid gray;box-sizing: border-box;top: 0;bottom: 0;left: 50%;z-index: -1;}#sk-container-id-1 div.sk-parallel-item {display: flex;flex-direction: column;z-index: 1;position: relative;background-color: white;}#sk-container-id-1 div.sk-parallel-item:first-child::after {align-self: flex-end;width: 50%;}#sk-container-id-1 div.sk-parallel-item:last-child::after {align-self: flex-start;width: 50%;}#sk-container-id-1 div.sk-parallel-item:only-child::after {width: 0;}#sk-container-id-1 div.sk-dashed-wrapped {border: 1px dashed gray;margin: 0 0.4em 0.5em 0.4em;box-sizing: border-box;padding-bottom: 0.4em;background-color: white;}#sk-container-id-1 div.sk-label label {font-family: monospace;font-weight: bold;display: inline-block;line-height: 1.2em;}#sk-container-id-1 div.sk-label-container {text-align: center;}#sk-container-id-1 div.sk-container {/* jupyter's `normalize.less` sets `[hidden] { display: none; }` but bootstrap.min.css set `[hidden] { display: none !important; }` so we also need the `!important` here to be able to override the default hidden behavior on the sphinx rendered scikit-learn.org. See: https://github.com/scikit-learn/scikit-learn/issues/21755 */display: inline-block !important;position: relative;}#sk-container-id-1 div.sk-text-repr-fallback {display: none;}</style><div id=\"sk-container-id-1\" class=\"sk-top-container\"><div class=\"sk-text-repr-fallback\"><pre>KNeighborsClassifier(n_neighbors=10)</pre><b>In a Jupyter environment, please rerun this cell to show the HTML representation or trust the notebook. <br />On GitHub, the HTML representation is unable to render, please try loading this page with nbviewer.org.</b></div><div class=\"sk-container\" hidden><div class=\"sk-item\"><div class=\"sk-estimator sk-toggleable\"><input class=\"sk-toggleable__control sk-hidden--visually\" id=\"sk-estimator-id-1\" type=\"checkbox\" checked><label for=\"sk-estimator-id-1\" class=\"sk-toggleable__label sk-toggleable__label-arrow\">KNeighborsClassifier</label><div class=\"sk-toggleable__content\"><pre>KNeighborsClassifier(n_neighbors=10)</pre></div></div></div></div></div>"
      ],
      "text/plain": [
       "KNeighborsClassifier(n_neighbors=10)"
      ]
     },
     "execution_count": 39,
     "metadata": {},
     "output_type": "execute_result"
    }
   ],
   "source": [
    "knn.fit(train_x_knn, train_y_knn)"
   ]
  },
  {
   "cell_type": "code",
   "execution_count": 40,
   "id": "af489f0b",
   "metadata": {},
   "outputs": [],
   "source": [
    "y_pred = knn.predict(test_x_knn)"
   ]
  },
  {
   "cell_type": "code",
   "execution_count": 41,
   "id": "176a5922",
   "metadata": {},
   "outputs": [],
   "source": [
    "accuracy = accuracy_score(test_y_cnn, y_pred)"
   ]
  },
  {
   "cell_type": "code",
   "execution_count": 42,
   "id": "7315f317",
   "metadata": {},
   "outputs": [
    {
     "data": {
      "text/plain": [
       "0.7932960893854749"
      ]
     },
     "execution_count": 42,
     "metadata": {},
     "output_type": "execute_result"
    }
   ],
   "source": [
    "accuracy"
   ]
  },
  {
   "cell_type": "code",
   "execution_count": 43,
   "id": "a8c5a1cb",
   "metadata": {},
   "outputs": [],
   "source": [
    "results_training = []\n",
    "results_validation = []\n",
    "for k in range(5, 21):\n",
    "    knn = KNeighborsClassifier(n_neighbors=k)\n",
    "    knn.fit(train_x_knn, train_y_knn)\n",
    "    \n",
    "    #Training Accuracy\n",
    "    y_pred_train = knn.predict(train_x_knn)\n",
    "    acc_train = accuracy_score(train_y_knn, y_pred_train)\n",
    "    results_training.append(acc_train)\n",
    "    \n",
    "    #Validation Accuracy\n",
    "    y_pred_val = knn.predict(val_x_knn)\n",
    "    acc_val = accuracy_score(val_y_knn, y_pred_val)\n",
    "    results_validation.append(acc_val)"
   ]
  },
  {
   "cell_type": "code",
   "execution_count": 44,
   "id": "1cbecd3d",
   "metadata": {},
   "outputs": [],
   "source": [
    "#selcting the best k value\n",
    "k_final = 5 + np.argmax(results_validation)"
   ]
  },
  {
   "cell_type": "code",
   "execution_count": 45,
   "id": "d67ee268",
   "metadata": {},
   "outputs": [
    {
     "data": {
      "text/plain": [
       "array([ 5,  6,  7,  8,  9, 10, 11, 12, 13, 14, 15, 16, 17, 18, 19, 20])"
      ]
     },
     "execution_count": 45,
     "metadata": {},
     "output_type": "execute_result"
    }
   ],
   "source": [
    "k_list = np.arange(5, 21, 1)\n",
    "k_list"
   ]
  },
  {
   "cell_type": "code",
   "execution_count": 54,
   "id": "ffbba0b7",
   "metadata": {},
   "outputs": [
    {
     "data": {
      "text/plain": [
       "Text(0, 0.5, 'Accuracy Score')"
      ]
     },
     "execution_count": 54,
     "metadata": {},
     "output_type": "execute_result"
    },
    {
     "data": {
      "image/png": "[encoded data removed]",
      "text/plain": [
       "<Figure size 640x480 with 1 Axes>"
      ]
     },
     "metadata": {},
     "output_type": "display_data"
    }
   ],
   "source": [
    "plt.plot(k_list, results_training, 'ro-', k_list, results_validation, 'bo-')\n",
    "plt.xscale\n",
    "plt.legend(['Training Accuracy', 'Validation Accuracy'])\n",
    "plt.xlabel(\"k values\")\n",
    "plt.ylabel(\"Accuracy Score\")\n",
    "#plt.title(\"Training and Validation Accuracies for different values of k\")"
   ]
  },
  {
   "cell_type": "code",
   "execution_count": 47,
   "id": "84576fbd",
   "metadata": {},
   "outputs": [
    {
     "data": {
      "text/plain": [
       "(0.8097902097902098, 1)"
      ]
     },
     "execution_count": 47,
     "metadata": {},
     "output_type": "execute_result"
    }
   ],
   "source": [
    "max(results_validation), np.argmax(results_validation)"
   ]
  },
  {
   "cell_type": "code",
   "execution_count": 56,
   "id": "7a7d1f0b",
   "metadata": {},
   "outputs": [
    {
     "data": {
      "text/plain": [
       "(0.8449860167798642, 0.8097902097902098)"
      ]
     },
     "execution_count": 56,
     "metadata": {},
     "output_type": "execute_result"
    }
   ],
   "source": [
    "results_training[1], results_validation[1]"
   ]
  },
  {
   "cell_type": "code",
   "execution_count": 49,
   "id": "64eb4eda",
   "metadata": {},
   "outputs": [
    {
     "data": {
      "text/plain": [
       "0.8128491620111732"
      ]
     },
     "execution_count": 49,
     "metadata": {},
     "output_type": "execute_result"
    }
   ],
   "source": [
    "knn_final = KNeighborsClassifier(n_neighbors=k_final)\n",
    "knn_final.fit(train_x_knn, train_y_knn)\n",
    "y_pred_test = knn_final.predict(test_x_knn)\n",
    "accuracy_testing = accuracy_score(test_y_knn, y_pred_test)\n",
    "accuracy_testing"
   ]
  },
  {
   "cell_type": "code",
   "execution_count": null,
   "id": "e390d8c0",
   "metadata": {},
   "outputs": [],
   "source": []
  }
 ],
 "metadata": {
  "kernelspec": {
   "display_name": "Python 3 (ipykernel)",
   "language": "python",
   "name": "python3"
  },
  "language_info": {
   "codemirror_mode": {
    "name": "ipython",
    "version": 3
   },
   "file_extension": ".py",
   "mimetype": "text/x-python",
   "name": "python",
   "nbconvert_exporter": "python",
   "pygments_lexer": "ipython3",
   "version": "3.11.4"
  }
 },
 "nbformat": 4,
 "nbformat_minor": 5
}
